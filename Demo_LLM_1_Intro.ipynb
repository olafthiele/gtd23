{
  "nbformat": 4,
  "nbformat_minor": 0,
  "metadata": {
    "colab": {
      "provenance": [],
      "authorship_tag": "ABX9TyMYTRu516KU+u9LgqGYpBoq",
      "include_colab_link": true
    },
    "kernelspec": {
      "name": "python3",
      "display_name": "Python 3"
    },
    "language_info": {
      "name": "python"
    }
  },
  "cells": [
    {
      "cell_type": "markdown",
      "metadata": {
        "id": "view-in-github",
        "colab_type": "text"
      },
      "source": [
        "<a href=\"https://colab.research.google.com/github/olafthiele/gtd23/blob/main/Demo_LLM_1_Intro.ipynb\" target=\"_parent\"><img src=\"https://colab.research.google.com/assets/colab-badge.svg\" alt=\"Open In Colab\"/></a>"
      ]
    },
    {
      "cell_type": "markdown",
      "source": [
        "**LLMs ausoprobieren**\n",
        "\n",
        "Der Code wird auf dem Server, hier Google, ausgeführt. Durch Klicken auf den \"Play\"-Button/Pfeil links oben neben einer Zelle wird diese ausgeführt.\n",
        "\n",
        "Teilweise ist der Code verdeckt, da man sonst die \"geheimen\" Anweisungen sieht. Wenn gewünscht, \"Code anzeigen\" klicken.\n",
        "\n",
        "Aktuell nutzt der Code unseren API-Key, nach der GTD bauen wir um, so dass ein eigener notwendig wird."
      ],
      "metadata": {
        "id": "p5-7isYdwd64"
      }
    },
    {
      "cell_type": "code",
      "execution_count": null,
      "metadata": {
        "id": "Euq6_HCM1Awv",
        "cellView": "form"
      },
      "outputs": [],
      "source": [
        "#@title Initialer Code\n",
        "import requests\n",
        "import time\n",
        "import random\n",
        "import hashlib\n",
        "import textwrap\n",
        "\n",
        "def getID():\n",
        "  input_string = str(int(time.time() * 1000)) + str(random.randint(10001, 99999))\n",
        "  return hashlib.md5(input_string.encode()).hexdigest()\n",
        "\n",
        "# neue \"Session\" starten\n",
        "id = getID()\n",
        "\n",
        "def askChatGPT(in_text):\n",
        "  data = {'message': in_text, 'hash': 'gtd-rocks', \"id\": id}\n",
        "  response = requests.post(\"http://85.209.51.176:7654\", json=data).json()\n",
        "  return response[\"message\"] \n",
        "\n",
        "def miniChatter():\n",
        "  print(\"Bin bereit, frage mich. Fürs Beenden 'stop' eingeben: \\n\")\n",
        "  while True:\n",
        "      a = input()\n",
        "      if a == 'stop':\n",
        "          break\n",
        "      response = askChatGPT(a)\n",
        "      print(\"\\n\" + '\\n'.join(textwrap.wrap(response, width=70)) + \"\\n\")\n"
      ]
    },
    {
      "cell_type": "code",
      "source": [
        "#@title ChatGPT testen\n",
        "\n",
        "miniChatter()"
      ],
      "metadata": {
        "cellView": "form",
        "id": "BBsrXBv34Xa5"
      },
      "execution_count": null,
      "outputs": []
    },
    {
      "cell_type": "code",
      "source": [
        "#@title Kleines Spiel\n",
        "\n",
        "prompt = \"\"\"\n",
        "Wir spielen Akinator.\n",
        "Ich denke an eine Person oder Figur. \n",
        "Sie müssen mich abfragen, und ich werde mit Ja oder Nein antworten. \n",
        "Anhand meiner Antwort müssen Sie die Person/Figur bestimmen, an die ich denke.\n",
        "Wenn Sie nach 10 Fragen nicht wissen, an wen ich denke, habe ich gewonnen.\n",
        "Beginnen Sie mit der ersten Frage.\n",
        "\"\"\"\n",
        "\n",
        "def game(prompt = \"\"):\n",
        "  \n",
        "  print('\\n'.join(textwrap.wrap(askChatGPT(prompt), width=70)) + \"\\n\")\n",
        "  while True:\n",
        "      a = input()\n",
        "      if a == 'stop':\n",
        "          break\n",
        "      response = askChatGPT(a)\n",
        "      print(\"\\n\" + '\\n'.join(textwrap.wrap(response, width=70)) + \"\\n\")\n",
        "      \n",
        "id = getID()\n",
        "game(prompt)"
      ],
      "metadata": {
        "id": "eUH8jvSu4f4X",
        "cellView": "form"
      },
      "execution_count": null,
      "outputs": []
    },
    {
      "cell_type": "code",
      "source": [
        "#@title Prompting\n",
        "\n",
        "prompt = \"\"\"\n",
        "Ich will den folgenden Code testen. \n",
        "Welches Framework soll ich nehmen und erstelle Code in 10 Test Cases und \n",
        "beschreibe, was ich tun soll:\n",
        "\n",
        "```\n",
        "def game(prompt = \"\"):\n",
        "  print('\\n'.join(textwrap.wrap(askChatGPT(prompt), width=70)) + \"\\n\")\n",
        "  while True:\n",
        "      a = input()\n",
        "      if a == 'stop':\n",
        "          break\n",
        "      response = askChatGPT(a)\n",
        "      print(\"\\n\" + '\\n'.join(textwrap.wrap(response, width=70)) + \"\\n\")\n",
        "```\n",
        "\n",
        "\"\"\"\n",
        "\n",
        "id = getID()\n",
        "print(askChatGPT(prompt))"
      ],
      "metadata": {
        "id": "UmjdTN4X1A9d",
        "cellView": "form"
      },
      "execution_count": null,
      "outputs": []
    }
  ]
}