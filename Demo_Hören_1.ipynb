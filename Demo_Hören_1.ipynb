{
  "nbformat": 4,
  "nbformat_minor": 0,
  "metadata": {
    "colab": {
      "provenance": [],
      "authorship_tag": "ABX9TyPXE4z7nextUaNBnwc7VQ1y",
      "include_colab_link": true
    },
    "kernelspec": {
      "name": "python3",
      "display_name": "Python 3"
    },
    "language_info": {
      "name": "python"
    }
  },
  "cells": [
    {
      "cell_type": "markdown",
      "metadata": {
        "id": "view-in-github",
        "colab_type": "text"
      },
      "source": [
        "<a href=\"https://colab.research.google.com/github/olafthiele/gtd23/blob/main/Demo_H%C3%B6ren_1.ipynb\" target=\"_parent\"><img src=\"https://colab.research.google.com/assets/colab-badge.svg\" alt=\"Open In Colab\"/></a>"
      ]
    },
    {
      "cell_type": "markdown",
      "source": [
        "# Hören 1 - Kleines coqui Modell\n",
        "\n",
        "Zunächst eine lokale Audioerkennung mit Hilfe eines 40MB Modells."
      ],
      "metadata": {
        "id": "jSjQaCNYnLo3"
      }
    },
    {
      "cell_type": "code",
      "execution_count": null,
      "metadata": {
        "id": "I_g2RZcYYWZ6"
      },
      "outputs": [],
      "source": [
        "# coqui stt installieren\n",
        "!pip install stt\n",
        "\n",
        "# Modell herunterladen von https://github.com/AASHISHAG/deepspeech-german\n",
        "!gdown --id 1MnjoAklMtJlpG1eDP6uD_Izvt36nPpiq -O small-model.tflite # 47MB\n",
        "\n",
        "# Testaudios herunterladen\n",
        "!wget http://ainblick.de/test/gtd1.wav\n",
        "!wget http://ainblick.de/test/gtd2.wav\n",
        "#gtd3 ist Bairisch\n",
        "!wget http://ainblick.de/test/gtd3.wav\n",
        "\n",
        "# Testaudio oop1.wav anzeigen\n",
        "import IPython.display as ipd\n",
        "ipd.Audio('gtd1.wav') # load a local WAV file"
      ]
    },
    {
      "cell_type": "code",
      "source": [
        "# Der Aufruf mit ! läuft auf Linux-Kommandozeile und ist aus jedem Code aufrufbar, aber Modelle können nich vorgehalten werden\n",
        "!stt --model small-model.tflite --audio gtd1.wav "
      ],
      "metadata": {
        "id": "m3zzs5r_ZDAW"
      },
      "execution_count": null,
      "outputs": []
    },
    {
      "cell_type": "code",
      "source": [
        "!stt --model small-model.tflite --audio gtd2.wav "
      ],
      "metadata": {
        "id": "7DtoV6tBnig0"
      },
      "execution_count": null,
      "outputs": []
    },
    {
      "cell_type": "code",
      "source": [
        "import IPython.display as ipd\n",
        "ipd.Audio('gtd3.wav') # load a local WAV file"
      ],
      "metadata": {
        "id": "36h_wYz2dJzh"
      },
      "execution_count": null,
      "outputs": []
    },
    {
      "cell_type": "code",
      "source": [
        "# Ein 40MB Modell ist beschränkt in seinem Inhalt\n",
        "!stt --model small-model.tflite --audio gtd3.wav"
      ],
      "metadata": {
        "id": "bIGvF1XAdKce"
      },
      "execution_count": null,
      "outputs": []
    },
    {
      "cell_type": "markdown",
      "source": [
        "# AWS Vergleich\n",
        "\n",
        "Erkennung in der Cloud mit mehreren KIs von mehreren GB Größe"
      ],
      "metadata": {
        "id": "Xx5-RcCkrQan"
      }
    },
    {
      "cell_type": "code",
      "source": [
        "import requests\n",
        "\n",
        "# Specify the URL of your Flask app\n",
        "url = 'http://85.209.51.176:7777/stt'  # Update with the correct URL\n",
        "\n",
        "# Path to the WAV file you want to transcribe\n",
        "wav_file_path = 'gtd3.wav'\n",
        "\n",
        "# Send a POST request to the Flask app with the WAV file\n",
        "with open(wav_file_path, 'rb') as file:\n",
        "    response = requests.post(url, files={'audio': file})\n",
        "\n",
        "# Print the response\n",
        "print(response.json())"
      ],
      "metadata": {
        "id": "YyozA-sJp8t4"
      },
      "execution_count": null,
      "outputs": []
    },
    {
      "cell_type": "code",
      "source": [
        "# Installation Libs für Recorder, nicht eingebaut\n",
        "! pip install sounddevice wavio\n",
        "! pip install ipywebrtc notebook\n",
        "!apt install ffmpeg\n",
        "!apt-get install libportaudio2\n",
        "\n",
        "from ipywebrtc import AudioRecorder, CameraStream\n",
        "from IPython.display import Audio, display\n",
        "import ipywidgets as widgets\n",
        "\n",
        "from google.colab import output\n",
        "output.enable_custom_widget_manager()"
      ],
      "metadata": {
        "id": "9xff4uIqYtyY"
      },
      "execution_count": null,
      "outputs": []
    },
    {
      "cell_type": "code",
      "source": [
        "# Start Recorder\n",
        "camera = CameraStream(constraints={'audio': True,'video':False})\n",
        "recorder = AudioRecorder(stream=camera)\n",
        "recorder #Der Inhalt des letzten Befehls wird angezeigt"
      ],
      "metadata": {
        "id": "vO9mj3nuY7lG"
      },
      "execution_count": null,
      "outputs": []
    },
    {
      "cell_type": "code",
      "source": [
        "# Audio umwandeln und im richtigen Format speichern\n",
        "with open('recording.webm', 'wb') as f:\n",
        "    f.write(recorder.audio.value)\n",
        "!ffmpeg -i recording.webm -acodec pcm_s16le -ac 1 -ar 16000 my_recording.wav -y -hide_banner -loglevel panic"
      ],
      "metadata": {
        "id": "_dXVzQ-OY2_O"
      },
      "execution_count": null,
      "outputs": []
    },
    {
      "cell_type": "code",
      "source": [
        "# Ein 40MB Modell ist beschränkt in seinem Inhalt\n",
        "!stt --model small-model.tflite --audio my_recording.wav"
      ],
      "metadata": {
        "id": "I8gfOyANZBn9"
      },
      "execution_count": null,
      "outputs": []
    },
    {
      "cell_type": "code",
      "source": [
        "# Und Ergebnis bei AWS\n",
        "wav_file_path = 'my_recording.wav'\n",
        "\n",
        "# Send a POST request to the Flask app with the WAV file\n",
        "with open(wav_file_path, 'rb') as file:\n",
        "    response = requests.post(url, files={'audio': file})\n",
        "\n",
        "# Print the response\n",
        "print(response.json())"
      ],
      "metadata": {
        "id": "DLHVfsDfAgsH"
      },
      "execution_count": null,
      "outputs": []
    }
  ]
}