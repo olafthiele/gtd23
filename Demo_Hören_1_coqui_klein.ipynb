{
  "nbformat": 4,
  "nbformat_minor": 0,
  "metadata": {
    "colab": {
      "provenance": [],
      "authorship_tag": "ABX9TyPcozS/Dkl7mPUmJ6dKN+ng",
      "include_colab_link": true
    },
    "kernelspec": {
      "name": "python3",
      "display_name": "Python 3"
    },
    "language_info": {
      "name": "python"
    }
  },
  "cells": [
    {
      "cell_type": "markdown",
      "metadata": {
        "id": "view-in-github",
        "colab_type": "text"
      },
      "source": [
        "<a href=\"https://colab.research.google.com/github/olafthiele/gtd23/blob/main/Demo_H%C3%B6ren_1_coqui_klein.ipynb\" target=\"_parent\"><img src=\"https://colab.research.google.com/assets/colab-badge.svg\" alt=\"Open In Colab\"/></a>"
      ]
    },
    {
      "cell_type": "markdown",
      "source": [
        "# Hören 1 - Kleines coqui Modell\n"
      ],
      "metadata": {
        "id": "jSjQaCNYnLo3"
      }
    },
    {
      "cell_type": "code",
      "execution_count": null,
      "metadata": {
        "id": "I_g2RZcYYWZ6"
      },
      "outputs": [],
      "source": [
        "# coqui stt installieren\n",
        "!pip install stt\n",
        "\n",
        "# Modell herunterladen von https://github.com/AASHISHAG/deepspeech-german\n",
        "!gdown --id 1MnjoAklMtJlpG1eDP6uD_Izvt36nPpiq -O small-model.tflite # 47MB\n",
        "\n",
        "# Testaudios herunterladen\n",
        "!wget http://ainblick.de/test/gtd1.wav\n",
        "!wget http://ainblick.de/test/gtd2.wav\n",
        "!wget http://ainblick.de/test/gtd3.wav\n",
        "\n",
        "# Testaudio oop1.wav anzeigen\n",
        "import IPython.display as ipd\n",
        "ipd.Audio('gtd1.wav') # load a local WAV file"
      ]
    },
    {
      "cell_type": "code",
      "source": [
        "# Der Aufruf mit ! läuft auf Linux-Kommandozeile und ist aus jedem Code aufrufbar, aber Modelle können nich vorgehalten werden\n",
        "!stt --model small-model.tflite --audio gtd1.wav "
      ],
      "metadata": {
        "id": "m3zzs5r_ZDAW"
      },
      "execution_count": null,
      "outputs": []
    },
    {
      "cell_type": "code",
      "source": [
        "!stt --model small-model.tflite --audio gtd2.wav "
      ],
      "metadata": {
        "id": "7DtoV6tBnig0"
      },
      "execution_count": null,
      "outputs": []
    },
    {
      "cell_type": "code",
      "source": [
        "import IPython.display as ipd\n",
        "ipd.Audio('gtd3.wav') # load a local WAV file"
      ],
      "metadata": {
        "id": "36h_wYz2dJzh"
      },
      "execution_count": null,
      "outputs": []
    },
    {
      "cell_type": "code",
      "source": [
        "# Ein 40MB Modell ist beschränkt in seinem Inhalt\n",
        "!stt --model small-model.tflite --audio gtd3.wav"
      ],
      "metadata": {
        "id": "bIGvF1XAdKce"
      },
      "execution_count": null,
      "outputs": []
    },
    {
      "cell_type": "code",
      "source": [],
      "metadata": {
        "id": "YyozA-sJp8t4"
      },
      "execution_count": null,
      "outputs": []
    }
  ]
}