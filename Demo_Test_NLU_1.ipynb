{
  "cells": [
    {
      "cell_type": "markdown",
      "metadata": {
        "id": "view-in-github",
        "colab_type": "text"
      },
      "source": [
        "<a href=\"https://colab.research.google.com/github/olafthiele/gtd23/blob/main/Demo_Test_NLU_1.ipynb\" target=\"_parent\"><img src=\"https://colab.research.google.com/assets/colab-badge.svg\" alt=\"Open In Colab\"/></a>"
      ]
    },
    {
      "cell_type": "markdown",
      "source": [
        "# Klassischer Test der NLU-Komponente"
      ],
      "metadata": {
        "id": "OHp7BPBLJcbI"
      }
    },
    {
      "cell_type": "code",
      "execution_count": null,
      "metadata": {
        "id": "tSIbvFvDcBZo"
      },
      "outputs": [],
      "source": [
        "!npm install -g @jovotech/cli\n",
        "!npm install -g npm@8.11.0\t\n",
        "!npm --version\n",
        "\n",
        "# Repo unter: https://github.com/fboerncke/jovo-v4-multi-featured-master-template-cocktail-party\n",
        "!git clone https://github.com/fboerncke/jovo-v4-multi-featured-master-template-cocktail-party.git\n",
        "%cd jovo-v4-multi-featured-master-template-cocktail-party\n",
        "\n",
        "!npm install"
      ]
    },
    {
      "cell_type": "markdown",
      "source": [
        "Dateien können online bearbeitet werden. Links die Folder-Sidebar öffnen und Datei doppelt klicken."
      ],
      "metadata": {
        "id": "-fr32U2jJpQb"
      }
    },
    {
      "cell_type": "code",
      "execution_count": null,
      "metadata": {
        "id": "mg-Uo-BEecSm"
      },
      "outputs": [],
      "source": [
        "!npm test"
      ]
    },
    {
      "cell_type": "code",
      "execution_count": null,
      "metadata": {
        "id": "rsXiRdN6eeAq"
      },
      "outputs": [],
      "source": []
    }
  ],
  "metadata": {
    "colab": {
      "provenance": [],
      "authorship_tag": "ABX9TyMDK38BxulFhs4Fkx62c/ZG",
      "include_colab_link": true
    },
    "kernelspec": {
      "display_name": "Python 3",
      "name": "python3"
    },
    "language_info": {
      "name": "python"
    }
  },
  "nbformat": 4,
  "nbformat_minor": 0
}