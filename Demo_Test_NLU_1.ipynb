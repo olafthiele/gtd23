{
  "cells": [
    {
      "cell_type": "markdown",
      "metadata": {
        "id": "view-in-github",
        "colab_type": "text"
      },
      "source": [
        "<a href=\"https://colab.research.google.com/github/olafthiele/gtd23/blob/main/Demo_Test_NLU_1.ipynb\" target=\"_parent\"><img src=\"https://colab.research.google.com/assets/colab-badge.svg\" alt=\"Open In Colab\"/></a>"
      ]
    },
    {
      "cell_type": "code",
      "execution_count": null,
      "metadata": {
        "colab": {
          "base_uri": "https://localhost:8080/"
        },
        "id": "tSIbvFvDcBZo",
        "outputId": "d2b6865b-492c-4577-bed0-b3709482e1e0"
      },
      "outputs": [
        {
          "output_type": "stream",
          "name": "stdout",
          "text": [
            "\u001b[K\u001b[?25h\n",
            "> @jovotech/cli@4.1.8 preinstall /tools/node/lib/node_modules/@jovotech/cli\n",
            "> node bin/overwrite\n",
            "\n",
            "\u001b[K\u001b[?25h/tools/node/bin/jovo -> /tools/node/lib/node_modules/@jovotech/cli/bin/run\n",
            "\u001b[K\u001b[?25h\u001b[37;40mnpm\u001b[0m \u001b[0m\u001b[30;43mWARN\u001b[0m \u001b[0m\u001b[35moptional\u001b[0m SKIPPING OPTIONAL DEPENDENCY: fsevents@~2.3.2 (node_modules/@jovotech/cli/node_modules/chokidar/node_modules/fsevents):\n",
            "\u001b[0m\u001b[37;40mnpm\u001b[0m \u001b[0m\u001b[30;43mWARN\u001b[0m \u001b[0m\u001b[35mnotsup\u001b[0m SKIPPING OPTIONAL DEPENDENCY: Unsupported platform for fsevents@2.3.2: wanted {\"os\":\"darwin\",\"arch\":\"any\"} (current: {\"os\":\"linux\",\"arch\":\"x64\"})\n",
            "\u001b[0m\u001b[37;40mnpm\u001b[0m \u001b[0m\u001b[30;43mWARN\u001b[0m\u001b[35m\u001b[0m ts-node@10.9.1 requires a peer of typescript@>=2.7 but none is installed. You must install peer dependencies yourself.\n",
            "\u001b[0m\n",
            "+ @jovotech/cli@4.1.8\n",
            "added 383 packages from 233 contributors in 27.105s\n",
            "\u001b[K\u001b[?25h/tools/node/bin/npm -> /tools/node/lib/node_modules/npm/bin/npm-cli.js\n",
            "/tools/node/bin/npx -> /tools/node/lib/node_modules/npm/bin/npx-cli.js\n",
            "\u001b[K\u001b[?25h+ npm@8.11.0\n",
            "added 63 packages from 18 contributors, removed 296 packages and updated 138 packages in 5.632s\n",
            "\n",
            "\u001b[33m\u001b[39m\n",
            "\u001b[33m   ╭───────────────────────────────────────────────────────────────╮\u001b[39m\n",
            "   \u001b[33m│\u001b[39m                                                               \u001b[33m│\u001b[39m\n",
            "   \u001b[33m│\u001b[39m      New \u001b[31mmajor\u001b[39m version of npm available! \u001b[31m6.14.8\u001b[39m → \u001b[32m9.6.7\u001b[39m       \u001b[33m│\u001b[39m\n",
            "   \u001b[33m│\u001b[39m   \u001b[33mChangelog:\u001b[39m \u001b[36mhttps://github.com/npm/cli/releases/tag/v9.6.7\u001b[39m   \u001b[33m│\u001b[39m\n",
            "   \u001b[33m│\u001b[39m               Run \u001b[32mnpm install -g npm\u001b[39m to update!               \u001b[33m│\u001b[39m\n",
            "   \u001b[33m│\u001b[39m                                                               \u001b[33m│\u001b[39m\n",
            "\u001b[33m   ╰───────────────────────────────────────────────────────────────╯\u001b[39m\n",
            "\u001b[33m\u001b[39m\n",
            "8.11.0\n",
            "Cloning into 'jovo-v4-multi-featured-master-template-cocktail-party'...\n",
            "remote: Enumerating objects: 75, done.\u001b[K\n",
            "remote: Counting objects: 100% (75/75), done.\u001b[K\n",
            "remote: Compressing objects: 100% (71/71), done.\u001b[K\n",
            "remote: Total 75 (delta 22), reused 4 (delta 2), pack-reused 0\u001b[K\n",
            "Unpacking objects: 100% (75/75), 352.95 KiB | 3.56 MiB/s, done.\n",
            "/content/jovo-v4-multi-featured-master-template-cocktail-party\n",
            "\u001b[K\u001b[?25h\u001b[37;40mnpm\u001b[0m \u001b[0m\u001b[30;43mWARN\u001b[0m \u001b[0m\u001b[35mdeprecated\u001b[0m w3c-hr-time@1.0.2: Use your platform's native performance.now() and performance.timeOrigin.\n",
            "\u001b[K\u001b[?25h\u001b[37;40mnpm\u001b[0m \u001b[0m\u001b[30;43mWARN\u001b[0m \u001b[0m\u001b[35mdeprecated\u001b[0m querystring@0.2.0: The querystring API is considered Legacy. new code should use the URLSearchParams API instead.\n",
            "\u001b[K\u001b[?25h\n",
            "added 961 packages, and audited 962 packages in 44s\n",
            "\n",
            "89 packages are looking for funding\n",
            "  run `npm fund` for details\n",
            "\n",
            "\u001b[31m\u001b[1m16\u001b[22m\u001b[39m vulnerabilities (9 \u001b[33m\u001b[1mmoderate\u001b[22m\u001b[39m, 7 \u001b[31m\u001b[1mhigh\u001b[22m\u001b[39m)\n",
            "\n",
            "Some issues need review, and may require choosing\n",
            "a different dependency.\n",
            "\n",
            "Run `npm audit` for details.\n",
            "\u001b[37;40mnpm\u001b[0m \u001b[0m\u001b[36;40mnotice\u001b[0m\u001b[35m\u001b[0m \n",
            "\u001b[0m\u001b[37;40mnpm\u001b[0m \u001b[0m\u001b[36;40mnotice\u001b[0m\u001b[35m\u001b[0m New \u001b[31mmajor\u001b[39m version of npm available! \u001b[31m8.11.0\u001b[39m -> \u001b[32m9.6.7\u001b[39m\n",
            "\u001b[0m\u001b[37;40mnpm\u001b[0m \u001b[0m\u001b[36;40mnotice\u001b[0m\u001b[35m\u001b[0m Changelog: \u001b[36mhttps://github.com/npm/cli/releases/tag/v9.6.7\u001b[39m\n",
            "\u001b[0m\u001b[37;40mnpm\u001b[0m \u001b[0m\u001b[36;40mnotice\u001b[0m\u001b[35m\u001b[0m Run \u001b[32mnpm install -g npm@9.6.7\u001b[39m to update!\n",
            "\u001b[0m\u001b[37;40mnpm\u001b[0m \u001b[0m\u001b[36;40mnotice\u001b[0m\u001b[35m\u001b[0m \n",
            "\u001b[0m"
          ]
        }
      ],
      "source": [
        "!npm install -g @jovotech/cli\n",
        "!npm install -g npm@8.11.0\t\n",
        "!npm --version\n",
        "\n",
        "!git clone https://github.com/fboerncke/jovo-v4-multi-featured-master-template-cocktail-party.git\n",
        "%cd jovo-v4-multi-featured-master-template-cocktail-party\n",
        "\n",
        "!npm install"
      ]
    },
    {
      "cell_type": "code",
      "execution_count": null,
      "metadata": {
        "id": "mg-Uo-BEecSm",
        "colab": {
          "base_uri": "https://localhost:8080/"
        },
        "outputId": "c2a60c2e-2fc1-4a8f-b26f-3511f9e7fd13"
      },
      "outputs": [
        {
          "output_type": "stream",
          "name": "stdout",
          "text": [
            "\n",
            "> jovo-v4-multi-featured-master-template-cocktail-party@1.0.0 test\n",
            "> jest\n",
            "\n",
            "\u001b[1m\u001b[2mDetermining test suites to run...\u001b[22m\u001b[22m\u001b[999D\u001b[K\n",
            "\u001b[1A\n",
            "\u001b[0m\u001b[7m\u001b[33m\u001b[1m RUNS \u001b[22m\u001b[39m\u001b[27m\u001b[0m \u001b[1m...\u001b[22m\n",
            "\u001b[1A\n",
            "\u001b[0m\u001b[7m\u001b[33m\u001b[1m RUNS \u001b[22m\u001b[39m\u001b[27m\u001b[0m \u001b[1m...\u001b[22m\n",
            "\u001b[1A\n",
            "\u001b[0m\u001b[7m\u001b[33m\u001b[1m RUNS \u001b[22m\u001b[39m\u001b[27m\u001b[0m \u001b[1m...\u001b[22m\n",
            "\u001b[1A\n",
            "\u001b[0m\u001b[7m\u001b[33m\u001b[1m RUNS \u001b[22m\u001b[39m\u001b[27m\u001b[0m \u001b[1m...\u001b[22m\n",
            "\u001b[1A\u001b[0m\u001b[7m\u001b[1m\u001b[32m PASS \u001b[39m\u001b[22m\u001b[27m\u001b[0m \u001b[2mtest/\u001b[22m\u001b[1mlocale.de.test.ts\u001b[22m (\u001b[0m\u001b[1m\u001b[41m5.471 s\u001b[49m\u001b[22m\u001b[0m)\n",
            "\n",
            "\u001b[0m\u001b[7m\u001b[33m\u001b[1m RUNS \u001b[22m\u001b[39m\u001b[27m\u001b[0m \u001b[1m...\u001b[22m\n",
            "\u001b[1A\n",
            "\u001b[0m\u001b[7m\u001b[33m\u001b[1m RUNS \u001b[22m\u001b[39m\u001b[27m\u001b[0m \u001b[1m...\u001b[22m\n",
            "\u001b[1A\n",
            "\u001b[0m\u001b[7m\u001b[33m\u001b[1m RUNS \u001b[22m\u001b[39m\u001b[27m\u001b[0m \u001b[1m...\u001b[22m\n",
            "\u001b[1A\n",
            "\u001b[0m\u001b[7m\u001b[33m\u001b[1m RUNS \u001b[22m\u001b[39m\u001b[27m\u001b[0m \u001b[1m...\u001b[22m\n",
            "\u001b[1A\n",
            "\u001b[0m\u001b[7m\u001b[33m\u001b[1m RUNS \u001b[22m\u001b[39m\u001b[27m\u001b[0m \u001b[1m...\u001b[22m\n",
            "\u001b[1A\n",
            "\u001b[0m\u001b[7m\u001b[33m\u001b[1m RUNS \u001b[22m\u001b[39m\u001b[27m\u001b[0m \u001b[1m...\u001b[22m\n",
            "\u001b[1A\n",
            "\u001b[0m\u001b[7m\u001b[33m\u001b[1m RUNS \u001b[22m\u001b[39m\u001b[27m\u001b[0m \u001b[1m...\u001b[22m\n",
            "\u001b[1A\u001b[0m\u001b[7m\u001b[1m\u001b[32m PASS \u001b[39m\u001b[22m\u001b[27m\u001b[0m \u001b[2mtest/\u001b[22m\u001b[1mlocale.en.test.ts\u001b[22m\n",
            "\n",
            "\u001b[0m\u001b[7m\u001b[33m\u001b[1m RUNS \u001b[22m\u001b[39m\u001b[27m\u001b[0m \u001b[1m...\u001b[22m\n",
            "\u001b[1A\u001b[999D\u001b[K\n",
            "\u001b[1mTest Suites: \u001b[22m\u001b[1m\u001b[32m2 passed\u001b[39m\u001b[22m, 2 total\n",
            "\u001b[1mTests:       \u001b[22m\u001b[1m\u001b[32m6 passed\u001b[39m\u001b[22m, 6 total\n",
            "\u001b[1mSnapshots:   \u001b[22m0 total\n",
            "\u001b[1mTime:\u001b[22m        6.279 s\n",
            "\u001b[2mRan all test suites\u001b[22m\u001b[2m.\u001b[22m\n"
          ]
        }
      ],
      "source": [
        "!npm test"
      ]
    },
    {
      "cell_type": "code",
      "execution_count": null,
      "metadata": {
        "id": "rsXiRdN6eeAq"
      },
      "outputs": [],
      "source": []
    }
  ],
  "metadata": {
    "colab": {
      "provenance": [],
      "authorship_tag": "ABX9TyO081ow1huJylUz5VQiCJh3",
      "include_colab_link": true
    },
    "kernelspec": {
      "display_name": "Python 3",
      "name": "python3"
    },
    "language_info": {
      "name": "python"
    }
  },
  "nbformat": 4,
  "nbformat_minor": 0
}